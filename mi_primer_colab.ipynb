{
  "nbformat": 4,
  "nbformat_minor": 0,
  "metadata": {
    "colab": {
      "provenance": [],
      "gpuType": "T4",
      "mount_file_id": "1OxTmP-WTcVTNMXb-yn7fYrX4QwGoSCA3",
      "authorship_tag": "ABX9TyO1Q8CClhF0aGeMfdBYQkVZ",
      "include_colab_link": true
    },
    "kernelspec": {
      "name": "python3",
      "display_name": "Python 3"
    },
    "language_info": {
      "name": "python"
    },
    "accelerator": "GPU"
  },
  "cells": [
    {
      "cell_type": "markdown",
      "metadata": {
        "id": "view-in-github",
        "colab_type": "text"
      },
      "source": [
        "<a href=\"https://colab.research.google.com/github/SebaBarletta/ProyectoEncriptador/blob/main/mi_primer_colab.ipynb\" target=\"_parent\"><img src=\"https://colab.research.google.com/assets/colab-badge.svg\" alt=\"Open In Colab\"/></a>"
      ]
    },
    {
      "cell_type": "markdown",
      "source": [
        "#Mi Primer Colab 😀"
      ],
      "metadata": {
        "id": "tG2UBvUv_19T"
      }
    },
    {
      "cell_type": "markdown",
      "source": [
        "## Probando Python"
      ],
      "metadata": {
        "id": "P1Kz5ChfBBAe"
      }
    },
    {
      "cell_type": "code",
      "execution_count": 2,
      "metadata": {
        "colab": {
          "base_uri": "https://localhost:8080/"
        },
        "id": "rUNOdwUx_UPR",
        "outputId": "ff684b6e-60a5-4d0a-9f3a-9157bb8fa050"
      },
      "outputs": [
        {
          "output_type": "stream",
          "name": "stdout",
          "text": [
            "Hola Mundo!\n"
          ]
        }
      ],
      "source": [
        "print(\"Hola Mundo!\")"
      ]
    },
    {
      "cell_type": "code",
      "source": [],
      "metadata": {
        "id": "i7prPPKLBT90"
      },
      "execution_count": null,
      "outputs": []
    },
    {
      "cell_type": "markdown",
      "source": [],
      "metadata": {
        "id": "3iUO29u8_0Gj"
      }
    },
    {
      "cell_type": "markdown",
      "source": [
        "##Segundo subtitulo\n"
      ],
      "metadata": {
        "id": "sQnfYeLxBP5F"
      }
    },
    {
      "cell_type": "markdown",
      "source": [
        "#Otro Título\n"
      ],
      "metadata": {
        "id": "qXFaP2MCCW6K"
      }
    }
  ]
}